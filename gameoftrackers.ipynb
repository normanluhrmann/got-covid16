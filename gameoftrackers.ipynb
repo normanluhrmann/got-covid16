{
 "cells": [
  {
   "cell_type": "code",
   "execution_count": 1,
   "metadata": {
    "tags": []
   },
   "outputs": [
    {
     "output_type": "error",
     "ename": "ZeroDivisionError",
     "evalue": "float division by zero",
     "traceback": [
      "\u001b[0;31m---------------------------------------------------------------------------\u001b[0m",
      "\u001b[0;31mZeroDivisionError\u001b[0m                         Traceback (most recent call last)",
      "\u001b[0;32m<ipython-input-1-845d43997eb4>\u001b[0m in \u001b[0;36m<module>\u001b[0;34m\u001b[0m\n\u001b[1;32m     11\u001b[0m         \u001b[0mcluster_size\u001b[0m\u001b[0;34m=\u001b[0m\u001b[0mcluster_size\u001b[0m\u001b[0;34m,\u001b[0m\u001b[0;34m\u001b[0m\u001b[0;34m\u001b[0m\u001b[0m\n\u001b[1;32m     12\u001b[0m         \u001b[0mtriangulated\u001b[0m\u001b[0;34m=\u001b[0m\u001b[0;32mFalse\u001b[0m\u001b[0;34m,\u001b[0m\u001b[0;34m\u001b[0m\u001b[0;34m\u001b[0m\u001b[0m\n\u001b[0;32m---> 13\u001b[0;31m         \u001b[0mtimer_type\u001b[0m\u001b[0;34m=\u001b[0m\u001b[0mtimer_type\u001b[0m\u001b[0;34m\u001b[0m\u001b[0;34m\u001b[0m\u001b[0m\n\u001b[0m\u001b[1;32m     14\u001b[0m     )\n\u001b[1;32m     15\u001b[0m \u001b[0;34m\u001b[0m\u001b[0m\n",
      "\u001b[0;32m/run/media/private/user/cryptostorage/SecureArc/1001_DOCTRINE_(MANIFESTO REMASTERED)/00_RESEARCH/got-covid16/gameoftrackers.py\u001b[0m in \u001b[0;36mrun_game\u001b[0;34m(n_simulation_runs, cluster_size, triangulated, timer_type)\u001b[0m\n\u001b[1;32m    237\u001b[0m         trackables += [time_series_data.trackable_fraction(cluster_size=cluster_size,\n\u001b[1;32m    238\u001b[0m                                                            \u001b[0mtriangulated\u001b[0m\u001b[0;34m=\u001b[0m\u001b[0mtriangulated\u001b[0m\u001b[0;34m,\u001b[0m\u001b[0;34m\u001b[0m\u001b[0;34m\u001b[0m\u001b[0m\n\u001b[0;32m--> 239\u001b[0;31m                                                            advertising_interval=advertising_interval)]\n\u001b[0m\u001b[1;32m    240\u001b[0m \u001b[0;34m\u001b[0m\u001b[0m\n\u001b[1;32m    241\u001b[0m     \u001b[0;32mreturn\u001b[0m \u001b[0mtrackables\u001b[0m\u001b[0;34m\u001b[0m\u001b[0;34m\u001b[0m\u001b[0m\n",
      "\u001b[0;32m/run/media/private/user/cryptostorage/SecureArc/1001_DOCTRINE_(MANIFESTO REMASTERED)/00_RESEARCH/got-covid16/gameoftrackers.py\u001b[0m in \u001b[0;36mtrackable_fraction\u001b[0;34m(self, cluster_size, triangulated, advertising_interval)\u001b[0m\n\u001b[1;32m    104\u001b[0m                 \u001b[0mtraversal_lut_rpi\u001b[0m\u001b[0;34m[\u001b[0m\u001b[0mrpi\u001b[0m\u001b[0;34m]\u001b[0m \u001b[0;34m=\u001b[0m \u001b[0mmac\u001b[0m\u001b[0;34m\u001b[0m\u001b[0;34m\u001b[0m\u001b[0m\n\u001b[1;32m    105\u001b[0m \u001b[0;34m\u001b[0m\u001b[0m\n\u001b[0;32m--> 106\u001b[0;31m             \u001b[0;32mreturn\u001b[0m \u001b[0;36m1.0\u001b[0m \u001b[0;34m-\u001b[0m \u001b[0;34m(\u001b[0m\u001b[0mfloat\u001b[0m\u001b[0;34m(\u001b[0m\u001b[0mlost_tracks\u001b[0m\u001b[0;34m)\u001b[0m \u001b[0;34m-\u001b[0m \u001b[0mcluster_size\u001b[0m\u001b[0;34m)\u001b[0m \u001b[0;34m/\u001b[0m \u001b[0mlen\u001b[0m\u001b[0;34m(\u001b[0m\u001b[0mg\u001b[0m\u001b[0;34m.\u001b[0m\u001b[0medges\u001b[0m\u001b[0;34m)\u001b[0m \u001b[0;31m# 0 edges XXXXX ??\u001b[0m\u001b[0;34m\u001b[0m\u001b[0;34m\u001b[0m\u001b[0m\n\u001b[0m\u001b[1;32m    107\u001b[0m \u001b[0;34m\u001b[0m\u001b[0m\n\u001b[1;32m    108\u001b[0m \u001b[0;34m\u001b[0m\u001b[0m\n",
      "\u001b[0;31mZeroDivisionError\u001b[0m: float division by zero"
     ]
    }
   ],
   "source": [
    "import gameoftrackers as got\n",
    "import matplotlib.pyplot as plt\n",
    "import numpy as np\n",
    "\n",
    "timer_type = got.ExposureNotificationTimerTypes.EXPOSURE_NOTIFICATION_TIMER_SPEC\n",
    "\n",
    "trackables = {}\n",
    "for cluster_size in range(1, 10):\n",
    "    trackables[cluster_size] = got.run_game(\n",
    "        n_simulation_runs=1,\n",
    "        cluster_size=cluster_size,\n",
    "        triangulated=False,\n",
    "        timer_type=timer_type\n",
    "    )\n",
    "\n",
    "data = np.array([\n",
    "    [i+1, t]\n",
    "    for i in range(len(trackables))\n",
    "    for t in trackables[i+1]\n",
    "])\n",
    "x = data[:,0]\n",
    "y = data[:,1]\n",
    "\n",
    "plt.scatter(x=x, y=y)\n",
    "plt.xlabel('cluster size')\n",
    "plt.ylabel('trackable fraction')\n",
    "plt.title(str(timer_type))\n",
    "plt.show()"
   ]
  },
  {
   "cell_type": "code",
   "execution_count": null,
   "metadata": {},
   "outputs": [],
   "source": []
  }
 ],
 "metadata": {
  "language_info": {
   "codemirror_mode": {
    "name": "ipython",
    "version": 3
   },
   "file_extension": ".py",
   "mimetype": "text/x-python",
   "name": "python",
   "nbconvert_exporter": "python",
   "pygments_lexer": "ipython3",
   "version": "3.6.9-final"
  },
  "orig_nbformat": 2,
  "kernelspec": {
   "name": "python36964bit3524b79975484ee79a0338a41ed38364",
   "display_name": "Python 3.6.9 64-bit"
  }
 },
 "nbformat": 4,
 "nbformat_minor": 2
}