{
 "cells": [
  {
   "cell_type": "code",
   "execution_count": 3,
   "metadata": {
    "tags": []
   },
   "outputs": [
    {
     "output_type": "stream",
     "name": "stdout",
     "text": "1/8\n2/8\n3/8\n"
    }
   ],
   "source": [
    "import gameoftrackers as got\n",
    "import matplotlib.pyplot as plt\n",
    "import numpy as np\n",
    "import math\n",
    "from gameoftrackers import TimeSeriesData, ExposureNotificationTimers, ExposureNotificationTimerTypes, SIMULATION_RUN_STEPS, DeviceOwnerAgent, run_game, render_game, Map\n",
    "\n",
    "n_types = len(list(ExposureNotificationTimerTypes))\n",
    "n_total = n_types * 2\n",
    "n_simulation_runs = 1\n",
    "max_cluster = 21\n",
    "i_total = 0\n",
    "\n",
    "fig, ax = plt.subplots(2, n_types, sharex='all', sharey='all')\n",
    "fig.set_tight_layout(True)\n",
    "\n",
    "for timer_type in ExposureNotificationTimerTypes:\n",
    "    for triangulated in [False, True]:\n",
    "        trackables = []\n",
    "\n",
    "        for cluster_size in range(0, max_cluster, 3) :\n",
    "\n",
    "            trackables += [run_game(\n",
    "                n_simulation_runs=n_simulation_runs,\n",
    "                cluster_size=max_cluster,\n",
    "                triangulated=triangulated,\n",
    "                timer_type=timer_type\n",
    "            )]\n",
    "\n",
    "        axx = i_total % 2\n",
    "        axy = timer_type.value - 1\n",
    "        cax = ax[axx][axy]\n",
    "        cax.cla()\n",
    "\n",
    "        cax.set_title(\"{} {}\".format(\n",
    "            'tri' if triangulated else 'ntri',\n",
    "            timer_type.name[timer_type.name.rfind('_') + 1:]\n",
    "        ))\n",
    "\n",
    "        data = np.array([\n",
    "            [(i + 1) * 3, t]\n",
    "            for i in range(len(trackables))\n",
    "            for t in trackables[i]\n",
    "        ])\n",
    "        x = data[:,0]\n",
    "        y = data[:,1]\n",
    "\n",
    "        cax.scatter(x=x, y=y)\n",
    "        if axx == 0 and axy == 0:\n",
    "            cax.set_xlabel('cluster size')\n",
    "            cax.set_ylabel('trackable fraction')\n",
    "\n",
    "        i_total += 1\n",
    "        print(f\"{i_total}/{n_total}\")\n",
    "\n",
    "plt.show()"
   ]
  }
 ],
 "metadata": {
  "language_info": {
   "codemirror_mode": {
    "name": "ipython",
    "version": 3
   },
   "file_extension": ".py",
   "mimetype": "text/x-python",
   "name": "python",
   "nbconvert_exporter": "python",
   "pygments_lexer": "ipython3",
   "version": "3.6.9-final"
  },
  "orig_nbformat": 2,
  "kernelspec": {
   "name": "python36964bit3524b79975484ee79a0338a41ed38364",
   "display_name": "Python 3.6.9 64-bit"
  }
 },
 "nbformat": 4,
 "nbformat_minor": 2
}