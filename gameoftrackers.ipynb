{
 "cells": [
  {
   "cell_type": "markdown",
   "metadata": {},
   "source": [
    "# Game of Trackers\n",
    "\n",
    "This notebook runs an agent-based simulation of ExposureNotification enabled devices in varying clusters and beacon proximity.\n",
    "\n",
    "It runs a variety of parametric variations:\n",
    "\n",
    "* Per spec\n",
    "* Live Android code on Galaxy S10\n",
    "* Live Android R code (untested)\n",
    "* Fixed Android R code (wontfix atm)\n",
    "* Fixed per spec\n",
    "\n",
    "The simulation provides measurements for triangulated beacon setups (three or more with full coverage) with moving agents or non-triangulated setups (single beacon) with static agents.\n",
    "\n",
    "The following scenarios are supported by the tracking solver:\n",
    "\n",
    "* 100% recovery: MAC rotates but RPI stays the same\n",
    "* 100% recovery: RPI rotates but MAC stays the same (Live Android is not affected by this)\n",
    "* <100% recovery: temporal uniqueness: no close secondary rotations make occurence temporally unique\n",
    "* <100% recovery: spatial uniqueness: no nearby secondary rotations make occurence spatially unique\n",
    "\n",
    "The reference data is synthesized but the solver technology can be easily attached to real-world log datasets for live tracking."
   ]
  },
  {
   "cell_type": "code",
   "execution_count": 1,
   "metadata": {
    "tags": []
   },
   "outputs": [
    {
     "output_type": "stream",
     "name": "stdout",
     "text": "1/10\n"
    },
    {
     "output_type": "error",
     "ename": "KeyboardInterrupt",
     "evalue": "",
     "traceback": [
      "\u001b[0;31m---------------------------------------------------------------------------\u001b[0m",
      "\u001b[0;31mKeyboardInterrupt\u001b[0m                         Traceback (most recent call last)",
      "\u001b[0;32m<ipython-input-1-7294741c8cdf>\u001b[0m in \u001b[0;36m<module>\u001b[0;34m\u001b[0m\n\u001b[1;32m     25\u001b[0m                 \u001b[0mcluster_size\u001b[0m\u001b[0;34m=\u001b[0m\u001b[0mcluster_size\u001b[0m\u001b[0;34m,\u001b[0m\u001b[0;34m\u001b[0m\u001b[0;34m\u001b[0m\u001b[0m\n\u001b[1;32m     26\u001b[0m                 \u001b[0mtriangulated\u001b[0m\u001b[0;34m=\u001b[0m\u001b[0mtriangulated\u001b[0m\u001b[0;34m,\u001b[0m\u001b[0;34m\u001b[0m\u001b[0;34m\u001b[0m\u001b[0m\n\u001b[0;32m---> 27\u001b[0;31m                 \u001b[0mtimer_type\u001b[0m\u001b[0;34m=\u001b[0m\u001b[0mtimer_type\u001b[0m\u001b[0;34m\u001b[0m\u001b[0;34m\u001b[0m\u001b[0m\n\u001b[0m\u001b[1;32m     28\u001b[0m             )]\n\u001b[1;32m     29\u001b[0m \u001b[0;34m\u001b[0m\u001b[0m\n",
      "\u001b[0;32m/run/media/private/user/cryptostorage/SecureArc/1001_DOCTRINE_(MANIFESTO REMASTERED)/00_RESEARCH/got-covid16/gameoftrackers.py\u001b[0m in \u001b[0;36mrun_game\u001b[0;34m(n_simulation_runs, cluster_size, triangulated, timer_type)\u001b[0m\n\u001b[1;32m    397\u001b[0m                                 space_map=space_map)\n\u001b[1;32m    398\u001b[0m \u001b[0;34m\u001b[0m\u001b[0m\n\u001b[0;32m--> 399\u001b[0;31m         \u001b[0;32mfor\u001b[0m \u001b[0m_\u001b[0m \u001b[0;32min\u001b[0m \u001b[0mrange\u001b[0m\u001b[0;34m(\u001b[0m\u001b[0;36m0\u001b[0m\u001b[0;34m,\u001b[0m \u001b[0mSIMULATION_RUN_STEPS\u001b[0m\u001b[0;34m)\u001b[0m\u001b[0;34m:\u001b[0m\u001b[0;34m\u001b[0m\u001b[0;34m\u001b[0m\u001b[0m\n\u001b[0m\u001b[1;32m    400\u001b[0m             \u001b[0mmodel\u001b[0m\u001b[0;34m.\u001b[0m\u001b[0mstep\u001b[0m\u001b[0;34m(\u001b[0m\u001b[0;34m)\u001b[0m\u001b[0;34m\u001b[0m\u001b[0;34m\u001b[0m\u001b[0m\n\u001b[1;32m    401\u001b[0m             \u001b[0mspace_map\u001b[0m\u001b[0;34m.\u001b[0m\u001b[0mstep\u001b[0m\u001b[0;34m(\u001b[0m\u001b[0;34m)\u001b[0m\u001b[0;34m\u001b[0m\u001b[0;34m\u001b[0m\u001b[0m\n",
      "\u001b[0;32m/run/media/private/user/cryptostorage/SecureArc/1001_DOCTRINE_(MANIFESTO REMASTERED)/00_RESEARCH/got-covid16/gameoftrackers.py\u001b[0m in \u001b[0;36mstep\u001b[0;34m(self)\u001b[0m\n\u001b[1;32m    127\u001b[0m                 \u001b[0mself\u001b[0m\u001b[0;34m.\u001b[0m\u001b[0m_map\u001b[0m\u001b[0;34m[\u001b[0m\u001b[0mx\u001b[0m \u001b[0;34m+\u001b[0m \u001b[0mdx\u001b[0m\u001b[0;34m]\u001b[0m\u001b[0;34m[\u001b[0m\u001b[0my\u001b[0m \u001b[0;34m+\u001b[0m \u001b[0mdy\u001b[0m\u001b[0;34m]\u001b[0m \u001b[0;34m=\u001b[0m \u001b[0magent_id\u001b[0m\u001b[0;34m\u001b[0m\u001b[0;34m\u001b[0m\u001b[0m\n\u001b[1;32m    128\u001b[0m                 \u001b[0mmovement_list\u001b[0m \u001b[0;34m+=\u001b[0m \u001b[0;34m[\u001b[0m\u001b[0;34m(\u001b[0m\u001b[0mself\u001b[0m\u001b[0;34m.\u001b[0m\u001b[0m_step\u001b[0m\u001b[0;34m,\u001b[0m \u001b[0mx\u001b[0m \u001b[0;34m+\u001b[0m \u001b[0mdx\u001b[0m\u001b[0;34m,\u001b[0m \u001b[0my\u001b[0m \u001b[0;34m+\u001b[0m \u001b[0mdy\u001b[0m\u001b[0;34m,\u001b[0m \u001b[0magent_id\u001b[0m\u001b[0;34m)\u001b[0m\u001b[0;34m]\u001b[0m\u001b[0;34m\u001b[0m\u001b[0;34m\u001b[0m\u001b[0m\n\u001b[0;32m--> 129\u001b[0;31m \u001b[0;34m\u001b[0m\u001b[0m\n\u001b[0m\u001b[1;32m    130\u001b[0m         \u001b[0;32mif\u001b[0m \u001b[0mhas_moved\u001b[0m\u001b[0;34m:\u001b[0m\u001b[0;34m\u001b[0m\u001b[0;34m\u001b[0m\u001b[0m\n\u001b[1;32m    131\u001b[0m             \u001b[0mmap_movie\u001b[0m \u001b[0;34m+=\u001b[0m \u001b[0;34m[\u001b[0m\u001b[0;34m(\u001b[0m\u001b[0mself\u001b[0m\u001b[0;34m.\u001b[0m\u001b[0m_step\u001b[0m\u001b[0;34m,\u001b[0m \u001b[0mstr\u001b[0m\u001b[0;34m(\u001b[0m\u001b[0mself\u001b[0m\u001b[0;34m.\u001b[0m\u001b[0m_map\u001b[0m\u001b[0;34m)\u001b[0m\u001b[0;34m)\u001b[0m\u001b[0;34m]\u001b[0m\u001b[0;34m\u001b[0m\u001b[0;34m\u001b[0m\u001b[0m\n",
      "\u001b[0;31mKeyboardInterrupt\u001b[0m: "
     ]
    }
   ],
   "source": [
    "import gameoftrackers as got\n",
    "import matplotlib.pyplot as plt\n",
    "import numpy as np\n",
    "import math\n",
    "import pprint\n",
    "from gameoftrackers import TimeSeriesData, ExposureNotificationTimers, ExposureNotificationTimerTypes, SIMULATION_RUN_STEPS, DeviceOwnerAgent, run_game, render_game, Map, action_list\n",
    "\n",
    "n_types = len(list(ExposureNotificationTimerTypes))\n",
    "n_total = n_types * 2\n",
    "n_simulation_runs = 5\n",
    "i_total = 0\n",
    "\n",
    "fig, ax = plt.subplots(2, n_types, sharex='all', sharey='all')\n",
    "\n",
    "for timer_type in ExposureNotificationTimerTypes:\n",
    "    for triangulated in [False, True]:\n",
    "        trackables = []\n",
    "\n",
    "        # stats = {}\n",
    "        WANT_CLUSTER = [1, 2, 5, 8, 13, 21, 34]\n",
    "        for cluster_size in WANT_CLUSTER: #range(0, max_cluster, CLUSTER_STEP):\n",
    "\n",
    "            trackables += [run_game(\n",
    "                n_simulation_runs=n_simulation_runs,\n",
    "                cluster_size=cluster_size,\n",
    "                triangulated=triangulated,\n",
    "                timer_type=timer_type\n",
    "            )]\n",
    "\n",
    "            # for action in action_list:\n",
    "            #     if not action[1] in stats:\n",
    "            #         stats[action[1]] = 0\n",
    "            #     stats[action[1]] += 1\n",
    "\n",
    "        axx = i_total % 2\n",
    "        axy = timer_type.value - 1\n",
    "        cax = ax[axx][axy]\n",
    "        cax.cla()\n",
    "\n",
    "        timer_name = timer_type.name\n",
    "        timer_name = timer_name.replace('_FIXED', ' FIX')\n",
    "        cax.set_title(\"{} {}\".format(\n",
    "            'TRI' if triangulated else 'NTRI',\n",
    "            timer_type.name[timer_type.name.rfind('_') + 1:]\n",
    "        ))\n",
    "\n",
    "        data = np.array([\n",
    "            [WANT_CLUSTER[i], t]\n",
    "            for i in range(len(trackables))\n",
    "            for t in trackables[i]\n",
    "        ])\n",
    "        x = data[:,0]\n",
    "        y = data[:,1]\n",
    "\n",
    "        cax.scatter(x=x, y=y)\n",
    "        if axx == 0 and axy == 0:\n",
    "            cax.set_xlabel('cluster size')\n",
    "            cax.set_ylabel('trackable fraction')\n",
    "\n",
    "        i_total += 1\n",
    "        print(f\"{i_total}/{n_total}\")\n",
    "        # pprint.pprint(stats)\n",
    "\n",
    "fig.tight_layout()\n",
    "plt.show()"
   ]
  }
 ],
 "metadata": {
  "language_info": {
   "codemirror_mode": {
    "name": "ipython",
    "version": 3
   },
   "file_extension": ".py",
   "mimetype": "text/x-python",
   "name": "python",
   "nbconvert_exporter": "python",
   "pygments_lexer": "ipython3",
   "version": "3.6.9-final"
  },
  "orig_nbformat": 2,
  "kernelspec": {
   "name": "python36964bit3524b79975484ee79a0338a41ed38364",
   "display_name": "Python 3.6.9 64-bit"
  }
 },
 "nbformat": 4,
 "nbformat_minor": 2
}